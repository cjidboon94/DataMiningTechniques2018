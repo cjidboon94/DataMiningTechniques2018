{
 "cells": [
  {
   "cell_type": "code",
   "execution_count": 1,
   "metadata": {
    "collapsed": true
   },
   "outputs": [],
   "source": [
    "import pandas as pd\n",
    "import numpy as np\n",
    "import matplotlib.pyplot as plt\n",
    "\n",
    "df = pd.read_csv('dataset_mood_smartphone.csv')"
   ]
  },
  {
   "cell_type": "code",
   "execution_count": 2,
   "metadata": {
    "collapsed": false,
    "scrolled": true
   },
   "outputs": [],
   "source": [
    "# all users\n",
    "users = list(df.id.unique())\n",
    "days_dict = {}\n",
    "avg_moods_dict = {}\n",
    "\n",
    "# lack of inspiration...\n",
    "arousal_dict, valence_dict, activity_dict, screen_dict, call_dict, sms_dict, builtin_dict, \\\n",
    "communication_dict, entertainment_dict, finance_dict, game_dict, office_dict, other_dict, social_dict, \\\n",
    "travel_dict, unknown_dict, utilities_dict, weather_dict = {}, {}, {}, {}, {}, {}, {}, {}, {}, {}, {}, {}, \\\n",
    "                                                            {}, {}, {}, {}, {}, {}\n",
    "\n",
    "for i in range(len(users)):\n",
    "    # specify user\n",
    "    user = df[df.id == users[i]]\n",
    "\n",
    "    # all days with data for the user\n",
    "    #days = sorted(set([x.split()[0] for x in list(user['time'])]))\n",
    "\n",
    "    pd.set_option('display.max_columns', 50)\n",
    "\n",
    "    # get all days on which the user's mood is known (mood_days)\n",
    "    mood_days = sorted(set([x.split()[0] for x in list(user[user.variable==\"mood\"]['time'])]))\n",
    "\n",
    "    average_moods, average_arousal, average_valence, average_activity, screen_sum, call_sum, sms_sum, \\\n",
    "    builtin_sum, comm_sum, ent_sum, fin_sum, game_sum, off_sum, oth_sum, soc_sum, tra_sum, unk_sum, uti_sum, \\\n",
    "    wea_sum = [], [], [], [], [], [], [], [], [], [], [], [], [], [], [], [], [], [], [] \n",
    " \n",
    "    for day in mood_days:\n",
    "        day_df = user[user['time'].str.contains(day)]\n",
    "        avg_mood = day_df[day_df.variable==\"mood\"].value.mean()\n",
    "        average_moods.append(avg_mood)\n",
    "        average_arousal.append(day_df[day_df.variable=='circumplex.arousal'].value.mean())\n",
    "        average_valence.append(day_df[day_df.variable=='circumplex.valence'].value.mean())\n",
    "        average_activity.append(day_df[day_df.variable=='activity'].value.mean())\n",
    "        screen_sum.append(day_df[day_df.variable=='screen'].value.sum())\n",
    "        call_sum.append(day_df[day_df.variable=='call'].value.sum())\n",
    "        sms_sum.append(day_df[day_df.variable=='sms'].value.sum())\n",
    "        builtin_sum.append(day_df[day_df.variable=='appCat.builtin'].value.sum())\n",
    "        comm_sum.append(day_df[day_df.variable=='appCat.communication'].value.sum())\n",
    "        ent_sum.append(day_df[day_df.variable=='appCat.entertainment'].value.sum())\n",
    "        fin_sum.append(day_df[day_df.variable=='appCat.finance'].value.sum())\n",
    "        game_sum.append(day_df[day_df.variable=='appCat.game'].value.sum())\n",
    "        off_sum.append(day_df[day_df.variable=='appCat.office'].value.sum())\n",
    "        oth_sum.append(day_df[day_df.variable=='appCat.other'].value.sum())\n",
    "        soc_sum.append(day_df[day_df.variable=='appCat.social'].value.sum())\n",
    "        tra_sum.append(day_df[day_df.variable=='appCat.travel'].value.sum())\n",
    "        unk_sum.append(day_df[day_df.variable=='appCat.unknown'].value.sum())\n",
    "        uti_sum.append(day_df[day_df.variable=='appCat.utilities'].value.sum())\n",
    "        wea_sum.append(day_df[day_df.variable=='appCat.weather'].value.sum())\n",
    "        \n",
    "    days_dict[users[i]] = mood_days\n",
    "    avg_moods_dict[users[i]] = average_moods\n",
    "    arousal_dict[users[i]] = average_arousal\n",
    "    valence_dict[users[i]] = average_valence\n",
    "    activity_dict[users[i]] = average_activity\n",
    "    screen_dict[users[i]] = screen_sum\n",
    "    call_dict[users[i]] = call_sum\n",
    "    sms_dict[users[i]] = sms_sum\n",
    "    builtin_dict[users[i]] = builtin_sum\n",
    "    communication_dict[users[i]] = comm_sum\n",
    "    entertainment_dict[users[i]] = ent_sum\n",
    "    finance_dict[users[i]] = fin_sum\n",
    "    game_dict[users[i]] = game_sum\n",
    "    office_dict[users[i]] = off_sum\n",
    "    other_dict[users[i]] = oth_sum\n",
    "    social_dict[users[i]] = soc_sum\n",
    "    travel_dict[users[i]] = tra_sum\n",
    "    unknown_dict[users[i]] = unk_sum\n",
    "    utilities_dict[users[i]] = uti_sum\n",
    "    weather_dict[users[i]] = wea_sum"
   ]
  },
  {
   "cell_type": "code",
   "execution_count": 3,
   "metadata": {
    "collapsed": false
   },
   "outputs": [],
   "source": [
    "# @cornelis\n",
    "del df"
   ]
  },
  {
   "cell_type": "code",
   "execution_count": 4,
   "metadata": {
    "collapsed": false
   },
   "outputs": [],
   "source": [
    "import matplotlib.pyplot as plt\n",
    "\n",
    "users = list(days_dict)\n",
    "plt.plot(range(len(days_dict[users[0]])), office_dict[users[0]])\n",
    "plt.show()"
   ]
  },
  {
   "cell_type": "code",
   "execution_count": 37,
   "metadata": {
    "collapsed": false
   },
   "outputs": [],
   "source": [
    "# create csv files for each user (average mood, arousal, valence, activity and sum of other variables)\n",
    "# located under '/data_mounir'\n",
    "\n",
    "users = list(days_dict)\n",
    "dicts = [avg_moods_dict, arousal_dict, valence_dict, activity_dict, screen_dict, \\\n",
    "         call_dict, sms_dict, builtin_dict, communication_dict, entertainment_dict, finance_dict, \\\n",
    "         game_dict, office_dict, other_dict, social_dict, travel_dict, unknown_dict, utilities_dict, weather_dict] \n",
    "\n",
    "for user in users:\n",
    "    userframe = pd.DataFrame(index=days_dict[user] , columns=['mood', 'arousal', 'valence', 'activity', \\\n",
    "                                                                  'screen', 'calls', 'sms', 'builtin', \n",
    "                                                                  'communication', 'entertainment', 'finance', \\\n",
    "                                                                  'game', 'office', 'other', 'social', \\\n",
    "                                                                  'travel', 'unknown', 'utilities', 'weather'])\n",
    "        \n",
    "    for i in range(len(userframe.columns)):\n",
    "        col = userframe.columns[i]\n",
    "        userframe[col] = dicts[i][user] \n",
    "    \n",
    "    userframe.to_csv('data_mounir/' + user + '.csv')\n"
   ]
  },
  {
   "cell_type": "code",
   "execution_count": null,
   "metadata": {
    "collapsed": true
   },
   "outputs": [],
   "source": [
    "# format dates to date objects for checking consecutive dates\n",
    "\n",
    "import datetime\n",
    "\n",
    "for user in days_dict:\n",
    "    days = days_dict[user]\n",
    "    dates = []\n",
    "    for day in days:\n",
    "        day_ints = [int(x) for x in day.split('-')]\n",
    "        dates.append(datetime.date(day_ints[0], day_ints[1], day_ints[2]))\n",
    "    days_dict[user] = dates"
   ]
  },
  {
   "cell_type": "code",
   "execution_count": null,
   "metadata": {
    "collapsed": false
   },
   "outputs": [],
   "source": [
    "# check if the data is consecutive\n",
    "# for creating the dataset from figure 2 in assignment\n",
    "\n",
    "users = list(days_dict)\n",
    "days_dict[users[5]]\n",
    "\n",
    "print 'The following dates in the data are not consecutive:\\n'\n",
    "for user in users:\n",
    "    days = days_dict[user]\n",
    "    length = len(days_dict[user]) - 1\n",
    "    for i in range(len(days)):\n",
    "        # make sure to not exceed the size of the days list when indexing\n",
    "        if i + 1 <= length: \n",
    "            if (days[i+1] - days[i]).days == 1:\n",
    "                pass #difference is one day = good\n",
    "            else:\n",
    "                print \"{} {} {}\\n\".format(user, days[i], days[i+1])\n",
    "        else:\n",
    "            pass"
   ]
  }
 ],
 "metadata": {
  "anaconda-cloud": {},
  "kernelspec": {
   "display_name": "Python [Root]",
   "language": "python",
   "name": "Python [Root]"
  },
  "language_info": {
   "codemirror_mode": {
    "name": "ipython",
    "version": 2
   },
   "file_extension": ".py",
   "mimetype": "text/x-python",
   "name": "python",
   "nbconvert_exporter": "python",
   "pygments_lexer": "ipython2",
   "version": "2.7.12"
  }
 },
 "nbformat": 4,
 "nbformat_minor": 2
}
