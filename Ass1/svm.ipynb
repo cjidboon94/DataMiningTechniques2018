{
 "cells": [
  {
   "cell_type": "code",
   "execution_count": 1,
   "metadata": {
    "collapsed": false
   },
   "outputs": [],
   "source": [
    "import pandas as pd\n",
    "import os\n",
    "import numpy as np\n",
    "import matplotlib.pyplot as plt\n",
    "\n",
    "interval = 5\n",
    "#dataset = pd.read_csv(os.path.join('interval_datasets', str(interval) + '.csv'), index_col=0)\n",
    "\n",
    "dataset = pd.read_csv('interval_datasets/AS14.09_5.csv')"
   ]
  },
  {
   "cell_type": "code",
   "execution_count": 24,
   "metadata": {
    "collapsed": false
   },
   "outputs": [],
   "source": [
    "X = np.asarray(dataset[['mood', 'arousal', 'valence', 'activity']])\n",
    "y = dataset['predicted_mood']"
   ]
  },
  {
   "cell_type": "code",
   "execution_count": 25,
   "metadata": {
    "collapsed": false
   },
   "outputs": [],
   "source": [
    "np.random.seed(43)\n",
    "data = zip(X,y)\n",
    "np.random.shuffle(data)\n",
    "\n",
    "X, y = zip(*data)"
   ]
  },
  {
   "cell_type": "code",
   "execution_count": 26,
   "metadata": {
    "collapsed": false
   },
   "outputs": [],
   "source": [
    "datasize = len(X)\n",
    "\n",
    "X_test, y_test = X[:datasize/5], y[:datasize/5]\n",
    "X_train, y_train = X[datasize/5:], y[datasize/5:]"
   ]
  },
  {
   "cell_type": "code",
   "execution_count": 38,
   "metadata": {
    "collapsed": false
   },
   "outputs": [
    {
     "data": {
      "text/plain": [
       "GridSearchCV(cv=5, error_score='raise',\n",
       "       estimator=SVR(C=1.0, cache_size=200, coef0=0.0, degree=3, epsilon=0.1, gamma='auto',\n",
       "  kernel='rbf', max_iter=-1, shrinking=True, tol=0.001, verbose=False),\n",
       "       fit_params=None, iid=True, n_jobs=1,\n",
       "       param_grid={'kernel': ['linear', 'rbf', 'sigmoid', 'poly'], 'C': [0.1, 0.5, 1, 1.5], 'tol': [0.0001, 0.001, 0.01, 0.1], 'epsilon': [0.01, 0.1, 0.5]},\n",
       "       pre_dispatch='2*n_jobs', refit=True, return_train_score=True,\n",
       "       scoring='neg_mean_squared_error', verbose=0)"
      ]
     },
     "execution_count": 38,
     "metadata": {},
     "output_type": "execute_result"
    }
   ],
   "source": [
    "from sklearn import svm\n",
    "from sklearn.model_selection import GridSearchCV\n",
    "\n",
    "tol_list = [1e-4, 1e-3, 1e-2, 1e-1]\n",
    "C_range = [0.1, 0.5, 1, 1.5]\n",
    "eps_range = [0.01, 0.1, 0.5]\n",
    "kernel_list = ['linear', 'rbf', 'sigmoid', 'poly']\n",
    "\n",
    "param_grid = dict(C=C_range, epsilon=eps_range, kernel=kernel_list, tol=tol_list)\n",
    "grid = GridSearchCV(svm.SVR(), param_grid, cv=5, scoring='neg_mean_squared_error')\n",
    "grid.fit(X_train, y_train)"
   ]
  },
  {
   "cell_type": "code",
   "execution_count": 49,
   "metadata": {
    "collapsed": false
   },
   "outputs": [
    {
     "name": "stdout",
     "output_type": "stream",
     "text": [
      "-0.29867931429605116 {'epsilon': 0.1, 'C': 1.5, 'tol': 0.1, 'kernel': 'poly'}\n"
     ]
    },
    {
     "data": {
      "text/plain": [
       "mean_fit_time                                               0.000959063\n",
       "mean_score_time                                             0.000257111\n",
       "mean_test_score                                               -0.298679\n",
       "mean_train_score                                              -0.263936\n",
       "param_C                                                             1.5\n",
       "param_epsilon                                                       0.1\n",
       "param_kernel                                                       poly\n",
       "param_tol                                                           0.1\n",
       "params                {u'epsilon': 0.1, u'C': 1.5, u'tol': 0.1, u'ke...\n",
       "rank_test_score                                                       1\n",
       "split0_test_score                                             -0.808491\n",
       "split0_train_score                                            -0.159737\n",
       "split1_test_score                                              -0.35936\n",
       "split1_train_score                                            -0.219465\n",
       "split2_test_score                                              -0.10213\n",
       "split2_train_score                                            -0.302371\n",
       "split3_test_score                                             -0.102403\n",
       "split3_train_score                                            -0.301724\n",
       "split4_test_score                                             -0.121013\n",
       "split4_train_score                                            -0.336384\n",
       "std_fit_time                                                0.000161188\n",
       "std_score_time                                              2.47129e-06\n",
       "std_test_score                                                 0.272878\n",
       "std_train_score                                               0.0647904\n",
       "Name: 175, dtype: object"
      ]
     },
     "execution_count": 49,
     "metadata": {},
     "output_type": "execute_result"
    }
   ],
   "source": [
    "print grid.best_score_, grid.best_params_\n",
    "#print grid.\n",
    "best_score_index = pd.DataFrame(grid.cv_results_)['mean_test_score'].argmax()\n",
    "pd.DataFrame(grid.cv_results_).loc[175]"
   ]
  },
  {
   "cell_type": "code",
   "execution_count": 34,
   "metadata": {
    "collapsed": false
   },
   "outputs": [],
   "source": [
    "clf = svm.SVR(C=1.5, epsilon=0.1, kernel='poly', tol=0.1)\n",
    "clf.fit(X_train, y_train) \n",
    "predicted = clf.predict(X_test)\n",
    "y_test\n",
    "\n",
    "mse = ((predicted - y_test) ** 2).mean(axis=None)"
   ]
  },
  {
   "cell_type": "code",
   "execution_count": 35,
   "metadata": {
    "collapsed": false
   },
   "outputs": [
    {
     "data": {
      "text/plain": [
       "0.4499066958797757"
      ]
     },
     "execution_count": 35,
     "metadata": {},
     "output_type": "execute_result"
    }
   ],
   "source": [
    "mse"
   ]
  },
  {
   "cell_type": "code",
   "execution_count": 25,
   "metadata": {
    "collapsed": false
   },
   "outputs": [],
   "source": [
    "plt.plot(range(len(y_test)), y_test, range(len(y_test)), predicted)\n",
    "plt.show()"
   ]
  },
  {
   "cell_type": "code",
   "execution_count": null,
   "metadata": {
    "collapsed": true
   },
   "outputs": [],
   "source": []
  }
 ],
 "metadata": {
  "anaconda-cloud": {},
  "kernelspec": {
   "display_name": "Python [Root]",
   "language": "python",
   "name": "Python [Root]"
  },
  "language_info": {
   "codemirror_mode": {
    "name": "ipython",
    "version": 2
   },
   "file_extension": ".py",
   "mimetype": "text/x-python",
   "name": "python",
   "nbconvert_exporter": "python",
   "pygments_lexer": "ipython2",
   "version": "2.7.12"
  }
 },
 "nbformat": 4,
 "nbformat_minor": 2
}
