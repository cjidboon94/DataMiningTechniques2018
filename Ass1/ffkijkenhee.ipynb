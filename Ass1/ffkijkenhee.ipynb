{
 "cells": [
  {
   "cell_type": "code",
   "execution_count": 4,
   "metadata": {
    "collapsed": true
   },
   "outputs": [],
   "source": [
    "def _mse(residuals):\n",
    "    residuals = [float(a) for a in residuals]\n",
    "    return np.mean(np.square(residuals))\n",
    "\n",
    "def _rmse(residuals):\n",
    "    residuals = [float(a) for a in residuals]\n",
    "    return np.sqrt(np.mean(np.square(residuals)))\n",
    "\n",
    "def _mae(residuals):\n",
    "    residuals = [float(a) for a in residuals]\n",
    "    return np.mean(np.absolute(residuals))\n",
    "    "
   ]
  },
  {
   "cell_type": "code",
   "execution_count": 5,
   "metadata": {
    "collapsed": false
   },
   "outputs": [],
   "source": [
    "import os\n",
    "import pandas as pd\n",
    "import numpy as np\n",
    "\n",
    "fold = 3\n",
    "userfiles = (os.listdir('data_normalized_res/svm_weekdayscomplete/fold_{}'.format(fold)))"
   ]
  },
  {
   "cell_type": "code",
   "execution_count": 6,
   "metadata": {
    "collapsed": false
   },
   "outputs": [],
   "source": [
    "results_test = pd.DataFrame(columns=['User','Fold', 'MSE', 'RMSE', 'MAE'])\n",
    "results_train = pd.DataFrame(columns=['User','Fold', 'MSE', 'RMSE', 'MAE'])\n",
    "\n",
    "for fold in [1,2,3,4]:\n",
    "    for user in userfiles:\n",
    "        data = pd.read_csv('data_normalized_res/svm_weekdayscomplete/fold_{}/'.format(fold) + user)\n",
    "        data = data.drop(['Unnamed: 0'], axis=1)\n",
    "        train_errors = np.array(data.loc[1])\n",
    "        test_errors = (data.loc[3])\n",
    "        test_errors = test_errors[pd.notnull(test_errors)]\n",
    "\n",
    "        rmse_train, mae_train, mse_train = _rmse(train_errors), _mae(train_errors), _mse(train_errors)\n",
    "        rmse_test, mae_test, mse_test = _rmse(test_errors), _mae(test_errors), _mse(test_errors)\n",
    "        results_train = results_train.append(pd.DataFrame([{'User': user[:-4], 'Fold': fold, 'RMSE': rmse_train, \\\n",
    "                                            'MAE': mae_train, 'MSE': mse_train}]))\n",
    "        results_test = results_test.append(pd.DataFrame([{'User': user[:-4], 'Fold': fold, 'RMSE': rmse_test, \\\n",
    "                                           'MAE': mae_test, 'MSE': mse_test}]))\n",
    "        \n",
    "\n",
    "results_test.to_csv('data_normalized_res/svm_weekdayscomplete/user_fold_errors_test.csv',index=False)\n",
    "results_train.to_csv('data_normalized_res/svm_weekdayscomplete/userfold_errors_train.csv',index=False)"
   ]
  },
  {
   "cell_type": "code",
   "execution_count": null,
   "metadata": {
    "collapsed": false
   },
   "outputs": [],
   "source": [
    "average_metrics_train = pd.DataFrame(columns=['User', 'MSE', 'RMSE', 'MAE'])\n",
    "average_metrics_test = pd.DataFrame(columns=['User', 'MSE', 'RMSE', 'MAE'])\n",
    "\n",
    "for user in userfiles:\n",
    "    perusertrain = results_train.loc[results_train['User'] == user[:-4]]\n",
    "    average_metrics_train = average_metrics_train.append(pd.DataFrame([{'User': user[:-4], 'RMSE': perusertrain['RMSE'].mean(), \\\n",
    "                                                            'MAE': perusertrain['MAE'].mean(), \\\n",
    "                                                            'MSE': perusertrain['MSE'].mean()}]))\n",
    "\n",
    "    perusertest = results_test.loc[results_test['User'] == user[:-4]]\n",
    "    average_metrics_test = average_metrics_test.append(pd.DataFrame([{'User': user[:-4], 'RMSE': perusertest['RMSE'].mean(), \\\n",
    "                                                            'MAE': perusertest['MAE'].mean(), \\\n",
    "                                                            'MSE': perusertest['MSE'].mean()}]))\n",
    "    \n",
    "average_metrics_test.to_csv('data_normalized_res/svm_noweekdays/average_test.csv',index=False)\n",
    "average_metrics_train.to_csv('data_normalized_res/svm_noweekdays/average_train.csv',index=False)"
   ]
  },
  {
   "cell_type": "code",
   "execution_count": null,
   "metadata": {
    "collapsed": false
   },
   "outputs": [],
   "source": [
    "for fold in [1,2,3,4]:\n",
    "    for user in userfiles[:5]:\n",
    "        data = pd.read_csv('data_normalized_res/svm_noweekdays/fold_{}/'.format(fold) + user)\n",
    "        data = data.drop(['Unnamed: 0'], axis=1)\n",
    "        test_errors = (data.loc[3])\n",
    "        test_errors = test_errors[pd.notnull(test_errors)]\n",
    "        print test_errors\n",
    "        \n"
   ]
  },
  {
   "cell_type": "code",
   "execution_count": null,
   "metadata": {
    "collapsed": true
   },
   "outputs": [],
   "source": []
  }
 ],
 "metadata": {
  "anaconda-cloud": {},
  "kernelspec": {
   "display_name": "Python [Root]",
   "language": "python",
   "name": "Python [Root]"
  },
  "language_info": {
   "codemirror_mode": {
    "name": "ipython",
    "version": 2
   },
   "file_extension": ".py",
   "mimetype": "text/x-python",
   "name": "python",
   "nbconvert_exporter": "python",
   "pygments_lexer": "ipython2",
   "version": "2.7.12"
  }
 },
 "nbformat": 4,
 "nbformat_minor": 2
}
