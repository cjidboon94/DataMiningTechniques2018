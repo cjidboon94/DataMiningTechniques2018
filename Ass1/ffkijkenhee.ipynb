{
 "cells": [
  {
   "cell_type": "code",
   "execution_count": 7,
   "metadata": {
    "collapsed": true
   },
   "outputs": [],
   "source": [
    "def _mse(residuals):\n",
    "    residuals = [float(a) for a in residuals]\n",
    "    return np.mean(np.square(residuals))\n",
    "\n",
    "def _rmse(residuals):\n",
    "    residuals = [float(a) for a in residuals]\n",
    "    return np.sqrt(np.mean(np.square(residuals)))\n",
    "\n",
    "def _mae(residuals):\n",
    "    residuals = [float(a) for a in residuals]\n",
    "    return np.mean(np.absolute(residuals))\n",
    "    "
   ]
  },
  {
   "cell_type": "code",
   "execution_count": 11,
   "metadata": {
    "collapsed": false
   },
   "outputs": [],
   "source": [
    "import os\n",
    "import pandas as pd\n",
    "import numpy as np\n",
    "\n",
    "fold = 3\n",
    "userfiles = (os.listdir('data_normalized_res/arima/fold_{}'.format(fold)))"
   ]
  },
  {
   "cell_type": "code",
   "execution_count": 14,
   "metadata": {
    "collapsed": false
   },
   "outputs": [
    {
     "name": "stdout",
     "output_type": "stream",
     "text": [
      "          0         1         2         3         4         5         6  \\\n",
      "0 -0.967811 -1.167153 -0.404341 -1.204341 -0.454341 -0.604341 -0.204341   \n",
      "1  0.332189 -0.167153 -1.204341 -0.704341 -0.804341 -1.004341 -0.404341   \n",
      "\n",
      "          7         8         9    ...           26        27        28  \\\n",
      "0 -0.804341  0.795659 -0.604341    ...    -0.004341  0.395659  0.295659   \n",
      "1 -0.704341 -0.704341       NaN    ...          NaN       NaN       NaN   \n",
      "\n",
      "         29        30        31        32        33        34        35  \n",
      "0  0.395659 -0.204341  0.595659  0.795659  0.395659  0.795659  0.795659  \n",
      "1       NaN       NaN       NaN       NaN       NaN       NaN       NaN  \n",
      "\n",
      "[2 rows x 36 columns]\n",
      "0    0.332189\n",
      "1   -0.167153\n",
      "2   -1.204341\n",
      "3   -0.704341\n",
      "4   -0.804341\n",
      "5   -1.004341\n",
      "6   -0.404341\n",
      "7   -0.704341\n",
      "8   -0.704341\n",
      "Name: 1, dtype: float64\n"
     ]
    }
   ],
   "source": [
    "results_test = pd.DataFrame(columns=['User','Fold', 'MSE', 'RMSE', 'MAE'])\n",
    "results_train = pd.DataFrame(columns=['User','Fold', 'MSE', 'RMSE', 'MAE'])\n",
    "\n",
    "for fold in [1,2,3,4]:\n",
    "    for user in userfiles:\n",
    "        data = pd.read_csv('data_normalized_res/arima/fold_{}/'.format(fold) + user)\n",
    "        data = data.drop(['Unnamed: 0'], axis=1)\n",
    "        print data\n",
    "        train_errors = np.array(data.loc[0])\n",
    "        \n",
    "        test_errors = (data.loc[1])\n",
    "        test_errors = test_errors[pd.notnull(test_errors)]\n",
    "        print test_errors\n",
    "        \n",
    "        rmse_train, mae_train, mse_train = _rmse(train_errors), _mae(train_errors), _mse(train_errors)\n",
    "        rmse_test, mae_test, mse_test = _rmse(test_errors), _mae(test_errors), _mse(test_errors)\n",
    "        results_train = results_train.append(pd.DataFrame([{'User': user[:-4], 'Fold': fold, 'RMSE': rmse_train, \\\n",
    "                                            'MAE': mae_train, 'MSE': mse_train}]))\n",
    "        results_test = results_test.append(pd.DataFrame([{'User': user[:-4], 'Fold': fold, 'RMSE': rmse_test, \\\n",
    "                                           'MAE': mae_test, 'MSE': mse_test}]))\n",
    "        break\n",
    "    break\n",
    "\n",
    "#results_test.to_csv('data_normalized_res/rnn_all/user_fold_errors_test.csv',index=False)\n",
    "#results_train.to_csv('data_normalized_res/rnn_all/userfold_errors_train.csv',index=False)"
   ]
  },
  {
   "cell_type": "code",
   "execution_count": 10,
   "metadata": {
    "collapsed": false
   },
   "outputs": [],
   "source": [
    "average_metrics_train = pd.DataFrame(columns=['User', 'MSE', 'RMSE', 'MAE'])\n",
    "average_metrics_test = pd.DataFrame(columns=['User', 'MSE', 'RMSE', 'MAE'])\n",
    "\n",
    "for user in userfiles:\n",
    "    perusertrain = results_train.loc[results_train['User'] == user[:-4]]\n",
    "    average_metrics_train = average_metrics_train.append(pd.DataFrame([{'User': user[:-4], 'RMSE': perusertrain['RMSE'].mean(), \\\n",
    "                                                            'MAE': perusertrain['MAE'].mean(), \\\n",
    "                                                            'MSE': perusertrain['MSE'].mean()}]))\n",
    "\n",
    "    perusertest = results_test.loc[results_test['User'] == user[:-4]]\n",
    "    average_metrics_test = average_metrics_test.append(pd.DataFrame([{'User': user[:-4], 'RMSE': perusertest['RMSE'].mean(), \\\n",
    "                                                            'MAE': perusertest['MAE'].mean(), \\\n",
    "                                                            'MSE': perusertest['MSE'].mean()}]))\n",
    "    \n",
    "average_metrics_test.to_csv('data_normalized_res/rnn_all/average_test.csv',index=False)\n",
    "average_metrics_train.to_csv('data_normalized_res/rnn_all/average_train.csv',index=False)"
   ]
  },
  {
   "cell_type": "code",
   "execution_count": null,
   "metadata": {
    "collapsed": true
   },
   "outputs": [],
   "source": []
  }
 ],
 "metadata": {
  "anaconda-cloud": {},
  "kernelspec": {
   "display_name": "Python [Root]",
   "language": "python",
   "name": "Python [Root]"
  },
  "language_info": {
   "codemirror_mode": {
    "name": "ipython",
    "version": 2
   },
   "file_extension": ".py",
   "mimetype": "text/x-python",
   "name": "python",
   "nbconvert_exporter": "python",
   "pygments_lexer": "ipython2",
   "version": "2.7.12"
  }
 },
 "nbformat": 4,
 "nbformat_minor": 2
}
