{
 "cells": [
  {
   "cell_type": "code",
   "execution_count": 1,
   "metadata": {},
   "outputs": [],
   "source": [
    "import matplotlib.pyplot as plt\n",
    "import numpy as np\n",
    "import pandas as pd\n",
    "import scipy.stats as st\n",
    "import scipy.special"
   ]
  },
  {
   "cell_type": "code",
   "execution_count": 2,
   "metadata": {},
   "outputs": [],
   "source": [
    "def benchmark(mood_data):\n",
    "    return mood_data.diff()\n",
    "\n",
    "def RMSE(errors):\n",
    "    return np.sqrt(MSE(errors))\n",
    "\n",
    "def MSE(errors):\n",
    "    return np.sum(errors**2)/len(errors)\n",
    "\n",
    "def MAE(errors):\n",
    "    return np.sum(np.abs(errors))/len(errors)\n",
    "\n"
   ]
  },
  {
   "cell_type": "code",
   "execution_count": 11,
   "metadata": {},
   "outputs": [
    {
     "name": "stdout",
     "output_type": "stream",
     "text": [
      "0.05\n"
     ]
    }
   ],
   "source": [
    "users = list(pd.read_csv('dataset_mood_smartphone.csv').id.unique())\n",
    "del users[-2]\n",
    "#load predictions and real data\n",
    "moodframe = pd.DataFrame(columns=users)\n",
    "#predictionframe = etc.\n",
    "errorframe = pd.DataFrame(columns=users)\n",
    "metricframe = pd.DataFrame(index=['RMSE', 'MAE','MSE'], columns=users)\n",
    "alpha =  5e-2\n",
    "tframe = pd.DataFrame(columns=users, index=[\"k2\", \"p\"])\n",
    "for user in users:\n",
    "    if \"32\" in user:\n",
    "        continue\n",
    "    df = pd.read_csv('data_normalized/' + user +'.csv')\n",
    "    moodframe[user] = df[\"mood\"]\n",
    "del df\n",
    "#General case. Only valid if we compare moods of users on the same day.\n",
    "#moodframe[\"total\"] = moodframe.mean(axis=1)    \n",
    "print(alpha)\n",
    "# Run the benchmark per user and the general case and  Report MSE\n",
    "for user in users:\n",
    "    errorframe[user] = benchmark(moodframe[user])\n",
    "    metricframe[user] =  [RMSE(errorframe[user]), MAE(errorframe[user]), MSE(errorframe[user])]\n",
    "\n",
    "    \n",
    "    \n",
    "metricframe = metricframe.transpose()\n",
    "metricframe.to_csv('data_normalized_res/benchmark/metrics.csv')\n",
    "errorframe.to_csv('data_normalized_res/benchmark/errors.csv')\n",
    "#tframe = tframe.transpose()\n",
    "#tframe[\"alpha\"] = 1 - tframe[\"p\"]\n",
    "#tframe[\"p less than 0.05\"] = tframe[\"alpha\"] < alpha\n",
    "#tframe[\"mean\"] = metricframe.transpose()[\"Mean\"]\n",
    "#tframe"
   ]
  },
  {
   "cell_type": "markdown",
   "metadata": {},
   "source": [
    "###### load predictions and real data.\n"
   ]
  },
  {
   "cell_type": "code",
   "execution_count": null,
   "metadata": {},
   "outputs": [],
   "source": []
  }
 ],
 "metadata": {
  "kernelspec": {
   "display_name": "Python 3",
   "language": "python",
   "name": "python3"
  },
  "language_info": {
   "codemirror_mode": {
    "name": "ipython",
    "version": 3
   },
   "file_extension": ".py",
   "mimetype": "text/x-python",
   "name": "python",
   "nbconvert_exporter": "python",
   "pygments_lexer": "ipython3",
   "version": "3.5.4"
  }
 },
 "nbformat": 4,
 "nbformat_minor": 2
}
