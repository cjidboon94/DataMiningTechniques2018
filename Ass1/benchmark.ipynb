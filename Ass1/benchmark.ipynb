{
 "cells": [
  {
   "cell_type": "code",
   "execution_count": 1,
   "metadata": {
    "collapsed": true
   },
   "outputs": [],
   "source": [
    "import pandas as pd\n",
    "import numpy as np\n",
    "import matplotlib.pyplot as plt"
   ]
  },
  {
   "cell_type": "code",
   "execution_count": 36,
   "metadata": {},
   "outputs": [],
   "source": [
    "def benchmark(mood_data):\n",
    "    return pd.Series((mood_data.diff() ** 2).mean() * .5)"
   ]
  },
  {
   "cell_type": "code",
   "execution_count": 37,
   "metadata": {},
   "outputs": [
    {
     "data": {
      "text/html": [
       "<div>\n",
       "<style>\n",
       "    .dataframe thead tr:only-child th {\n",
       "        text-align: right;\n",
       "    }\n",
       "\n",
       "    .dataframe thead th {\n",
       "        text-align: left;\n",
       "    }\n",
       "\n",
       "    .dataframe tbody tr th {\n",
       "        vertical-align: top;\n",
       "    }\n",
       "</style>\n",
       "<table border=\"1\" class=\"dataframe\">\n",
       "  <thead>\n",
       "    <tr style=\"text-align: right;\">\n",
       "      <th></th>\n",
       "      <th>AS14.01</th>\n",
       "      <th>AS14.02</th>\n",
       "      <th>AS14.03</th>\n",
       "      <th>AS14.05</th>\n",
       "      <th>AS14.06</th>\n",
       "      <th>AS14.07</th>\n",
       "      <th>AS14.08</th>\n",
       "      <th>AS14.09</th>\n",
       "      <th>AS14.12</th>\n",
       "      <th>AS14.13</th>\n",
       "      <th>...</th>\n",
       "      <th>AS14.24</th>\n",
       "      <th>AS14.25</th>\n",
       "      <th>AS14.26</th>\n",
       "      <th>AS14.27</th>\n",
       "      <th>AS14.28</th>\n",
       "      <th>AS14.29</th>\n",
       "      <th>AS14.30</th>\n",
       "      <th>AS14.31</th>\n",
       "      <th>AS14.32</th>\n",
       "      <th>AS14.33</th>\n",
       "    </tr>\n",
       "  </thead>\n",
       "  <tbody>\n",
       "    <tr>\n",
       "      <th>0</th>\n",
       "      <td>0.157171</td>\n",
       "      <td>0.470326</td>\n",
       "      <td>0.091812</td>\n",
       "      <td>0.299469</td>\n",
       "      <td>0.282443</td>\n",
       "      <td>1.129771</td>\n",
       "      <td>0.235278</td>\n",
       "      <td>0.310025</td>\n",
       "      <td>0.253875</td>\n",
       "      <td>0.565634</td>\n",
       "      <td>...</td>\n",
       "      <td>0.229632</td>\n",
       "      <td>0.261762</td>\n",
       "      <td>0.271196</td>\n",
       "      <td>0.316782</td>\n",
       "      <td>0.395571</td>\n",
       "      <td>0.233686</td>\n",
       "      <td>0.095676</td>\n",
       "      <td>0.107817</td>\n",
       "      <td>0.298727</td>\n",
       "      <td>0.59211</td>\n",
       "    </tr>\n",
       "  </tbody>\n",
       "</table>\n",
       "<p>1 rows × 27 columns</p>\n",
       "</div>"
      ],
      "text/plain": [
       "    AS14.01   AS14.02   AS14.03   AS14.05   AS14.06   AS14.07   AS14.08  \\\n",
       "0  0.157171  0.470326  0.091812  0.299469  0.282443  1.129771  0.235278   \n",
       "\n",
       "    AS14.09   AS14.12   AS14.13   ...      AS14.24   AS14.25   AS14.26  \\\n",
       "0  0.310025  0.253875  0.565634   ...     0.229632  0.261762  0.271196   \n",
       "\n",
       "    AS14.27   AS14.28   AS14.29   AS14.30   AS14.31   AS14.32  AS14.33  \n",
       "0  0.316782  0.395571  0.233686  0.095676  0.107817  0.298727  0.59211  \n",
       "\n",
       "[1 rows x 27 columns]"
      ]
     },
     "execution_count": 37,
     "metadata": {},
     "output_type": "execute_result"
    }
   ],
   "source": [
    "# Load the mood data per user, and create a general average mood as well.\n",
    "\n",
    "users = list(pd.read_csv('dataset_mood_smartphone.csv').id.unique())\n",
    "moodframe = pd.DataFrame(columns=users)\n",
    "MSEframe = pd.DataFrame(columns=users)\n",
    "\n",
    "for user in users:\n",
    "    df = pd.read_csv('data_mounir/' + user +'.csv')\n",
    "    df.head()\n",
    "    moodframe[user] = df[\"mood\"]\n",
    "    \n",
    "#General case. Only valid if we compare moods of users on the same day.\n",
    "#moodframe[\"total\"] = moodframe.mean(axis=1)    \n",
    "\n",
    "# Run the benchmark per user and the general case and  Report MSE\n",
    "for user in users:\n",
    "    MSEframe[user] = benchmark(moodframe[user])\n",
    "MSEframe.head()\n"
   ]
  },
  {
   "cell_type": "code",
   "execution_count": 62,
   "metadata": {},
   "outputs": [
    {
     "data": {
      "image/png": "[encoded data removed]",
      "text/plain": [
       "<matplotlib.figure.Figure at 0x7f257719ce50>"
      ]
     },
     "metadata": {},
     "output_type": "display_data"
    }
   ],
   "source": [
    "MSEs = np.asarray(MSEframe)\n",
    "MSEs= MSEs[0]\n",
    "plt.bar(range(len(MSEs)), MSEs)\n",
    "plt.title(\"MSE for each user, with the benchmark\")\n",
    "plt.ylabel(\"MSE\")\n",
    "plt.xlabel(\"user\")\n",
    "plt.show()"
   ]
  },
  {
   "cell_type": "code",
   "execution_count": 61,
   "metadata": {},
   "outputs": [
    {
     "data": {
      "image/png": "[encoded data removed]",
      "text/plain": [
       "<matplotlib.figure.Figure at 0x7f2576e156d0>"
      ]
     },
     "metadata": {},
     "output_type": "display_data"
    }
   ],
   "source": []
  },
  {
   "cell_type": "code",
   "execution_count": 33,
   "metadata": {},
   "outputs": [
    {
     "data": {
      "text/plain": [
       "0.15717089371980678"
      ]
     },
     "execution_count": 33,
     "metadata": {},
     "output_type": "execute_result"
    }
   ],
   "source": []
  },
  {
   "cell_type": "code",
   "execution_count": null,
   "metadata": {
    "collapsed": true
   },
   "outputs": [],
   "source": []
  }
 ],
 "metadata": {
  "kernelspec": {
   "display_name": "Python 2",
   "language": "python",
   "name": "python2"
  },
  "language_info": {
   "codemirror_mode": {
    "name": "ipython",
    "version": 2
   },
   "file_extension": ".py",
   "mimetype": "text/x-python",
   "name": "python",
   "nbconvert_exporter": "python",
   "pygments_lexer": "ipython2",
   "version": "2.7.13"
  }
 },
 "nbformat": 4,
 "nbformat_minor": 2
}
