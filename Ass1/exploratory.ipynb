{
 "cells": [
  {
   "cell_type": "code",
   "execution_count": 2,
   "metadata": {
    "collapsed": true
   },
   "outputs": [],
   "source": [
    "%matplotlib inline\n",
    "import pandas as pd\n",
    "import numpy as np\n",
    "import matplotlib.pyplot as plt"
   ]
  },
  {
   "cell_type": "code",
   "execution_count": 3,
   "metadata": {
    "collapsed": true
   },
   "outputs": [],
   "source": [
    "df = pd.read_csv('dataset_mood_smartphone.csv')"
   ]
  },
  {
   "cell_type": "code",
   "execution_count": 4,
   "metadata": {
    "collapsed": false
   },
   "outputs": [
    {
     "data": {
      "text/html": [
       "<div>\n",
       "<style>\n",
       "    .dataframe thead tr:only-child th {\n",
       "        text-align: right;\n",
       "    }\n",
       "\n",
       "    .dataframe thead th {\n",
       "        text-align: left;\n",
       "    }\n",
       "\n",
       "    .dataframe tbody tr th {\n",
       "        vertical-align: top;\n",
       "    }\n",
       "</style>\n",
       "<table border=\"1\" class=\"dataframe\">\n",
       "  <thead>\n",
       "    <tr style=\"text-align: right;\">\n",
       "      <th></th>\n",
       "      <th>Unnamed: 0</th>\n",
       "      <th>id</th>\n",
       "      <th>time</th>\n",
       "      <th>variable</th>\n",
       "      <th>value</th>\n",
       "    </tr>\n",
       "  </thead>\n",
       "  <tbody>\n",
       "    <tr>\n",
       "      <th>376907</th>\n",
       "      <td>2770399</td>\n",
       "      <td>AS14.30</td>\n",
       "      <td>2014-04-11 07:51:16.948</td>\n",
       "      <td>appCat.weather</td>\n",
       "      <td>8.032</td>\n",
       "    </tr>\n",
       "    <tr>\n",
       "      <th>376908</th>\n",
       "      <td>2772465</td>\n",
       "      <td>AS14.30</td>\n",
       "      <td>2014-04-19 11:00:32.747</td>\n",
       "      <td>appCat.weather</td>\n",
       "      <td>3.008</td>\n",
       "    </tr>\n",
       "    <tr>\n",
       "      <th>376909</th>\n",
       "      <td>2774026</td>\n",
       "      <td>AS14.30</td>\n",
       "      <td>2014-04-26 10:19:07.434</td>\n",
       "      <td>appCat.weather</td>\n",
       "      <td>7.026</td>\n",
       "    </tr>\n",
       "    <tr>\n",
       "      <th>376910</th>\n",
       "      <td>2774133</td>\n",
       "      <td>AS14.30</td>\n",
       "      <td>2014-04-27 00:44:48.450</td>\n",
       "      <td>appCat.weather</td>\n",
       "      <td>23.033</td>\n",
       "    </tr>\n",
       "    <tr>\n",
       "      <th>376911</th>\n",
       "      <td>2784435</td>\n",
       "      <td>AS14.32</td>\n",
       "      <td>2014-04-07 18:25:14.036</td>\n",
       "      <td>appCat.weather</td>\n",
       "      <td>22.431</td>\n",
       "    </tr>\n",
       "  </tbody>\n",
       "</table>\n",
       "</div>"
      ],
      "text/plain": [
       "        Unnamed: 0       id                     time        variable   value\n",
       "376907     2770399  AS14.30  2014-04-11 07:51:16.948  appCat.weather   8.032\n",
       "376908     2772465  AS14.30  2014-04-19 11:00:32.747  appCat.weather   3.008\n",
       "376909     2774026  AS14.30  2014-04-26 10:19:07.434  appCat.weather   7.026\n",
       "376910     2774133  AS14.30  2014-04-27 00:44:48.450  appCat.weather  23.033\n",
       "376911     2784435  AS14.32  2014-04-07 18:25:14.036  appCat.weather  22.431"
      ]
     },
     "execution_count": 4,
     "metadata": {},
     "output_type": "execute_result"
    }
   ],
   "source": [
    "df.tail()\n"
   ]
  },
  {
   "cell_type": "code",
   "execution_count": 9,
   "metadata": {
    "collapsed": false
   },
   "outputs": [
    {
     "name": "stdout",
     "output_type": "stream",
     "text": [
      "['AS14.01' 'AS14.02' 'AS14.03' 'AS14.05' 'AS14.06' 'AS14.07' 'AS14.08'\n",
      " 'AS14.09' 'AS14.12' 'AS14.13' 'AS14.14' 'AS14.15' 'AS14.16' 'AS14.17'\n",
      " 'AS14.19' 'AS14.20' 'AS14.23' 'AS14.24' 'AS14.25' 'AS14.26' 'AS14.27'\n",
      " 'AS14.28' 'AS14.29' 'AS14.30' 'AS14.31' 'AS14.32' 'AS14.33']\n",
      "[[1 'AS14.01' '2014-02-26 13:00:00.000' 'mood' 6.0]\n",
      " [2 'AS14.01' '2014-02-26 15:00:00.000' 'mood' 6.0]\n",
      " [3 'AS14.01' '2014-02-26 18:00:00.000' 'mood' 6.0]\n",
      " ...\n",
      " [2774026 'AS14.30' '2014-04-26 10:19:07.434' 'appCat.weather' 7.026]\n",
      " [2774133 'AS14.30' '2014-04-27 00:44:48.450' 'appCat.weather' 23.033]\n",
      " [2784435 'AS14.32' '2014-04-07 18:25:14.036' 'appCat.weather'\n",
      "  22.430999999999997]]\n"
     ]
    }
   ],
   "source": [
    "print(df[\"id\"].unique())\n",
    "#(df[\"id\"].hist())\n",
    "\n",
    "dfm = df.as_matrix()\n",
    "print(dfm)\n",
    "# for each user\n",
    "# For each record, get the timestamp and the variable+value\n",
    "# Each timestamp,var,val triple is one row"
   ]
  },
  {
   "cell_type": "code",
   "execution_count": 37,
   "metadata": {
    "collapsed": false
   },
   "outputs": [
    {
     "data": {
      "text/plain": [
       "<matplotlib.axes._subplots.AxesSubplot at 0x7f39a1333b70>"
      ]
     },
     "execution_count": 37,
     "metadata": {},
     "output_type": "execute_result"
    },
    {
     "data": {
      "image/png": "[encoded data removed]",
      "text/plain": [
       "<matplotlib.figure.Figure at 0x7f39a118c048>"
      ]
     },
     "metadata": {},
     "output_type": "display_data"
    }
   ],
   "source": [
    "dfT = df[\"time\"].apply(pd.Timestamp)\n",
    "dfT.hist()"
   ]
  },
  {
   "cell_type": "code",
   "execution_count": 28,
   "metadata": {
    "collapsed": false
   },
   "outputs": [
    {
     "data": {
      "text/plain": [
       "<matplotlib.axes._subplots.AxesSubplot at 0x7f39a122b400>"
      ]
     },
     "execution_count": 28,
     "metadata": {},
     "output_type": "execute_result"
    },
    {
     "data": {
      "image/png": "[encoded data removed]",
      "text/plain": [
       "<matplotlib.figure.Figure at 0x7f39a120cbe0>"
      ]
     },
     "metadata": {},
     "output_type": "display_data"
    }
   ],
   "source": [
    "df[df.variable==\"mood\"][\"value\"].hist()"
   ]
  },
  {
   "cell_type": "code",
   "execution_count": 66,
   "metadata": {
    "collapsed": false
   },
   "outputs": [
    {
     "name": "stdout",
     "output_type": "stream",
     "text": [
      "        Unnamed: 0       id                     time variable  value\n",
      "136470      136471  AS14.01  2014-02-17 12:04:42.394     call    1.0\n",
      "136471      136472  AS14.01  2014-02-17 18:28:25.520     call    1.0\n",
      "        Unnamed: 0       id                     time              variable  \\\n",
      "16927        16928  AS14.01  2014-03-20 22:00:00.000              activity   \n",
      "16928        16929  AS14.01  2014-03-20 23:00:00.000              activity   \n",
      "39892        39893  AS14.01  2014-03-20 23:14:58.200                screen   \n",
      "39893        39894  AS14.01  2014-03-20 23:17:23.092                screen   \n",
      "39894        39895  AS14.01  2014-03-20 23:20:43.698                screen   \n",
      "39895        39896  AS14.01  2014-03-20 23:22:05.476                screen   \n",
      "39896        39897  AS14.01  2014-03-20 23:31:08.088                screen   \n",
      "39897        39898  AS14.01  2014-03-20 23:45:31.217                screen   \n",
      "39898        39899  AS14.01  2014-03-20 23:48:14.392                screen   \n",
      "39899        39900  AS14.01  2014-03-20 23:48:32.744                screen   \n",
      "39900        39901  AS14.01  2014-03-20 23:52:10.180                screen   \n",
      "136520      136521  AS14.01  2014-03-20 11:14:07.482                  call   \n",
      "143507      210000  AS14.01  2014-03-20 22:25:56.111        appCat.builtin   \n",
      "143508      510001  AS14.01  2014-03-20 22:34:51.135        appCat.builtin   \n",
      "143509      710000  AS14.01  2014-03-20 22:48:30.211        appCat.builtin   \n",
      "143510      910000  AS14.01  2014-03-20 22:49:37.628        appCat.builtin   \n",
      "143511     1110000  AS14.01  2014-03-20 22:50:40.273        appCat.builtin   \n",
      "143512     1310000  AS14.01  2014-03-20 22:51:00.348        appCat.builtin   \n",
      "143513      161003  AS14.01  2014-03-20 22:53:16.815        appCat.builtin   \n",
      "143514      191000  AS14.01  2014-03-20 22:54:42.092        appCat.builtin   \n",
      "143515      211000  AS14.01  2014-03-20 22:55:39.267        appCat.builtin   \n",
      "143516      231000  AS14.01  2014-03-20 22:55:41.276        appCat.builtin   \n",
      "143517      261001  AS14.01  2014-03-20 22:56:26.444        appCat.builtin   \n",
      "143518      281000  AS14.01  2014-03-20 22:56:30.456        appCat.builtin   \n",
      "143519      301000  AS14.01  2014-03-20 22:56:32.463        appCat.builtin   \n",
      "143520      331000  AS14.01  2014-03-20 22:58:14.621        appCat.builtin   \n",
      "143521      361004  AS14.01  2014-03-20 22:59:50.980        appCat.builtin   \n",
      "143522      391000  AS14.01  2014-03-20 23:01:57.091        appCat.builtin   \n",
      "143523      421000  AS14.01  2014-03-20 23:11:38.635        appCat.builtin   \n",
      "143524      441000  AS14.01  2014-03-20 23:12:38.880        appCat.builtin   \n",
      "...            ...      ...                      ...                   ...   \n",
      "234824      233474  AS14.01  2014-03-20 23:31:08.102  appCat.communication   \n",
      "234825      233477  AS14.01  2014-03-20 23:33:00.905  appCat.communication   \n",
      "234826      233480  AS14.01  2014-03-20 23:34:23.253  appCat.communication   \n",
      "234827      233486  AS14.01  2014-03-20 23:40:24.061  appCat.communication   \n",
      "234828      233490  AS14.01  2014-03-20 23:43:42.207  appCat.communication   \n",
      "234829      233493  AS14.01  2014-03-20 23:45:37.308  appCat.communication   \n",
      "234830      233496  AS14.01  2014-03-20 23:48:19.434  appCat.communication   \n",
      "234831      233504  AS14.01  2014-03-20 23:57:36.499  appCat.communication   \n",
      "309071      466816  AS14.01  2014-03-20 22:40:30.552  appCat.entertainment   \n",
      "309072      466867  AS14.01  2014-03-20 23:22:11.536  appCat.entertainment   \n",
      "309073      466868  AS14.01  2014-03-20 23:22:13.540  appCat.entertainment   \n",
      "309074      466881  AS14.01  2014-03-20 23:32:05.657  appCat.entertainment   \n",
      "309075      466907  AS14.01  2014-03-20 23:55:08.760  appCat.entertainment   \n",
      "309076      466911  AS14.01  2014-03-20 23:58:34.165  appCat.entertainment   \n",
      "343590     1400431  AS14.01  2014-03-20 22:25:45.190          appCat.other   \n",
      "343591     1400452  AS14.01  2014-03-20 22:55:40.273          appCat.other   \n",
      "351240     1633845  AS14.01  2014-03-20 22:49:38.631         appCat.social   \n",
      "351241     1633849  AS14.01  2014-03-20 22:51:03.359         appCat.social   \n",
      "351242     1633852  AS14.01  2014-03-20 22:53:17.819         appCat.social   \n",
      "351243     1633855  AS14.01  2014-03-20 22:54:43.095         appCat.social   \n",
      "351244     1633862  AS14.01  2014-03-20 22:56:28.450         appCat.social   \n",
      "351245     1633880  AS14.01  2014-03-20 23:12:39.986         appCat.social   \n",
      "351246     1633901  AS14.01  2014-03-20 23:25:51.921         appCat.social   \n",
      "351247     1633912  AS14.01  2014-03-20 23:39:52.941         appCat.social   \n",
      "351248     1633914  AS14.01  2014-03-20 23:40:17.019         appCat.social   \n",
      "351249     1633929  AS14.01  2014-03-20 23:48:47.845         appCat.social   \n",
      "351250     1633930  AS14.01  2014-03-20 23:52:10.200         appCat.social   \n",
      "373231     2100719  AS14.01  2014-03-20 23:33:38.079        appCat.unknown   \n",
      "374170     2334110  AS14.01  2014-03-20 23:22:49.928      appCat.utilities   \n",
      "374171     2334111  AS14.01  2014-03-20 23:22:50.934      appCat.utilities   \n",
      "\n",
      "             value  \n",
      "16927     0.071429  \n",
      "16928     0.091667  \n",
      "39892    58.846000  \n",
      "39893     9.217000  \n",
      "39894    19.829000  \n",
      "39895   483.510000  \n",
      "39896   812.907000  \n",
      "39897    25.123000  \n",
      "39898    15.828000  \n",
      "39899   201.687000  \n",
      "39900   648.997000  \n",
      "136520    1.000000  \n",
      "143507    2.288000  \n",
      "143508    1.007000  \n",
      "143509   37.125000  \n",
      "143510    1.003000  \n",
      "143511    4.017000  \n",
      "143512    3.010000  \n",
      "143513    1.003000  \n",
      "143514    1.002000  \n",
      "143515    1.002000  \n",
      "143516    2.041000  \n",
      "143517    2.004000  \n",
      "143518    1.001000  \n",
      "143519    2.006000  \n",
      "143520    1.023000  \n",
      "143521    2.004000  \n",
      "143522    1.003000  \n",
      "143523    1.006000  \n",
      "143524    1.099000  \n",
      "...            ...  \n",
      "234824   54.533000  \n",
      "234825   32.104000  \n",
      "234826  323.661000  \n",
      "234827  102.741000  \n",
      "234828   49.315000  \n",
      "234829   14.082000  \n",
      "234830    9.032000  \n",
      "234831   54.644000  \n",
      "309071    6.211000  \n",
      "309072    2.004000  \n",
      "309073   34.378000  \n",
      "309074   55.239000  \n",
      "309075  144.711000  \n",
      "309076  108.313000  \n",
      "343590   10.343000  \n",
      "343591    1.002000  \n",
      "351240   61.641000  \n",
      "351241  120.396000  \n",
      "351242   68.216000  \n",
      "351243   56.169000  \n",
      "351244    2.004000  \n",
      "351245   56.171000  \n",
      "351246   58.871000  \n",
      "351247   18.054000  \n",
      "351248    5.031000  \n",
      "351249  186.637000  \n",
      "351250  174.541000  \n",
      "373231   45.173000  \n",
      "374170    1.002000  \n",
      "374171   20.072000  \n",
      "\n",
      "[113 rows x 5 columns]\n"
     ]
    }
   ],
   "source": [
    "# all users\n",
    "users = list(df.id.unique())\n",
    "\n",
    "# get all days a user was active (for averaging mood per day)\n",
    "user0 = df[df.id == users[0]]\n",
    "days = sorted(set([x.split()[0] for x in list(user0['time'])]))\n",
    "\n",
    "pd.set_option('display.max_columns', 50)\n",
    "\n",
    "day = days[0]\n",
    "print(user0[user0['time'].str.contains(day)])\n",
    "\n",
    "#TODO only select days on which a user's mood is known"
   ]
  },
  {
   "cell_type": "code",
   "execution_count": null,
   "metadata": {
    "collapsed": true
   },
   "outputs": [],
   "source": []
  }
 ],
 "metadata": {
  "anaconda-cloud": {},
  "kernelspec": {
   "display_name": "Python [Root]",
   "language": "python",
   "name": "Python [Root]"
  },
  "language_info": {
   "codemirror_mode": {
    "name": "ipython",
    "version": 2
   },
   "file_extension": ".py",
   "mimetype": "text/x-python",
   "name": "python",
   "nbconvert_exporter": "python",
   "pygments_lexer": "ipython2",
   "version": "2.7.12"
  }
 },
 "nbformat": 4,
 "nbformat_minor": 2
}
