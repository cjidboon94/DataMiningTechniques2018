{
 "cells": [
  {
   "cell_type": "code",
   "execution_count": 1,
   "metadata": {
    "collapsed": true
   },
   "outputs": [],
   "source": [
    "%matplotlib inline\n",
    "import pandas as pd\n",
    "import numpy as np\n",
    "import matplotlib.pyplot as plt"
   ]
  },
  {
   "cell_type": "code",
   "execution_count": 2,
   "metadata": {
    "collapsed": true
   },
   "outputs": [],
   "source": [
    "df = pd.read_csv('dataset_mood_smartphone.csv')"
   ]
  },
  {
   "cell_type": "code",
   "execution_count": 3,
   "metadata": {
    "collapsed": false
   },
   "outputs": [
    {
     "data": {
      "text/html": [
       "<div>\n",
       "<style>\n",
       "    .dataframe thead tr:only-child th {\n",
       "        text-align: right;\n",
       "    }\n",
       "\n",
       "    .dataframe thead th {\n",
       "        text-align: left;\n",
       "    }\n",
       "\n",
       "    .dataframe tbody tr th {\n",
       "        vertical-align: top;\n",
       "    }\n",
       "</style>\n",
       "<table border=\"1\" class=\"dataframe\">\n",
       "  <thead>\n",
       "    <tr style=\"text-align: right;\">\n",
       "      <th></th>\n",
       "      <th>Unnamed: 0</th>\n",
       "      <th>id</th>\n",
       "      <th>time</th>\n",
       "      <th>variable</th>\n",
       "      <th>value</th>\n",
       "    </tr>\n",
       "  </thead>\n",
       "  <tbody>\n",
       "    <tr>\n",
       "      <th>376907</th>\n",
       "      <td>2770399</td>\n",
       "      <td>AS14.30</td>\n",
       "      <td>2014-04-11 07:51:16.948</td>\n",
       "      <td>appCat.weather</td>\n",
       "      <td>8.032</td>\n",
       "    </tr>\n",
       "    <tr>\n",
       "      <th>376908</th>\n",
       "      <td>2772465</td>\n",
       "      <td>AS14.30</td>\n",
       "      <td>2014-04-19 11:00:32.747</td>\n",
       "      <td>appCat.weather</td>\n",
       "      <td>3.008</td>\n",
       "    </tr>\n",
       "    <tr>\n",
       "      <th>376909</th>\n",
       "      <td>2774026</td>\n",
       "      <td>AS14.30</td>\n",
       "      <td>2014-04-26 10:19:07.434</td>\n",
       "      <td>appCat.weather</td>\n",
       "      <td>7.026</td>\n",
       "    </tr>\n",
       "    <tr>\n",
       "      <th>376910</th>\n",
       "      <td>2774133</td>\n",
       "      <td>AS14.30</td>\n",
       "      <td>2014-04-27 00:44:48.450</td>\n",
       "      <td>appCat.weather</td>\n",
       "      <td>23.033</td>\n",
       "    </tr>\n",
       "    <tr>\n",
       "      <th>376911</th>\n",
       "      <td>2784435</td>\n",
       "      <td>AS14.32</td>\n",
       "      <td>2014-04-07 18:25:14.036</td>\n",
       "      <td>appCat.weather</td>\n",
       "      <td>22.431</td>\n",
       "    </tr>\n",
       "  </tbody>\n",
       "</table>\n",
       "</div>"
      ],
      "text/plain": [
       "        Unnamed: 0       id                     time        variable   value\n",
       "376907     2770399  AS14.30  2014-04-11 07:51:16.948  appCat.weather   8.032\n",
       "376908     2772465  AS14.30  2014-04-19 11:00:32.747  appCat.weather   3.008\n",
       "376909     2774026  AS14.30  2014-04-26 10:19:07.434  appCat.weather   7.026\n",
       "376910     2774133  AS14.30  2014-04-27 00:44:48.450  appCat.weather  23.033\n",
       "376911     2784435  AS14.32  2014-04-07 18:25:14.036  appCat.weather  22.431"
      ]
     },
     "execution_count": 3,
     "metadata": {},
     "output_type": "execute_result"
    }
   ],
   "source": [
    "df.tail()\n"
   ]
  },
  {
   "cell_type": "code",
   "execution_count": 7,
   "metadata": {
    "collapsed": false
   },
   "outputs": [
    {
     "name": "stdout",
     "output_type": "stream",
     "text": [
      "['AS14.01' 'AS14.02' 'AS14.03' 'AS14.05' 'AS14.06' 'AS14.07' 'AS14.08'\n",
      " 'AS14.09' 'AS14.12' 'AS14.13' 'AS14.14' 'AS14.15' 'AS14.16' 'AS14.17'\n",
      " 'AS14.19' 'AS14.20' 'AS14.23' 'AS14.24' 'AS14.25' 'AS14.26' 'AS14.27'\n",
      " 'AS14.28' 'AS14.29' 'AS14.30' 'AS14.31' 'AS14.32' 'AS14.33']\n",
      "[[1 'AS14.01' '2014-02-26 13:00:00.000' 'mood' 6.0]\n",
      " [2 'AS14.01' '2014-02-26 15:00:00.000' 'mood' 6.0]\n",
      " [3 'AS14.01' '2014-02-26 18:00:00.000' 'mood' 6.0]\n",
      " ...\n",
      " [2774026 'AS14.30' '2014-04-26 10:19:07.434' 'appCat.weather' 7.026]\n",
      " [2774133 'AS14.30' '2014-04-27 00:44:48.450' 'appCat.weather' 23.033]\n",
      " [2784435 'AS14.32' '2014-04-07 18:25:14.036' 'appCat.weather'\n",
      "  22.430999999999997]]\n"
     ]
    }
   ],
   "source": [
    "print(df[\"id\"].unique())\n",
    "#df[\"id\"].hist()\n",
    "\n",
    "dfm = df.as_matrix()\n",
    "print(dfm)\n",
    "# for each user\n",
    "# For each record, get the timestamp and the variable+value\n",
    "# Each timestamp,var,val triple is one row"
   ]
  },
  {
   "cell_type": "code",
   "execution_count": 37,
   "metadata": {
    "collapsed": false
   },
   "outputs": [
    {
     "data": {
      "text/plain": [
       "<matplotlib.axes._subplots.AxesSubplot at 0x7f39a1333b70>"
      ]
     },
     "execution_count": 37,
     "metadata": {},
     "output_type": "execute_result"
    },
    {
     "data": {
      "image/png": "[encoded data removed]",
      "text/plain": [
       "<matplotlib.figure.Figure at 0x7f39a118c048>"
      ]
     },
     "metadata": {},
     "output_type": "display_data"
    }
   ],
   "source": [
    "dfT = df[\"time\"].apply(pd.Timestamp)\n",
    "dfT.hist()"
   ]
  },
  {
   "cell_type": "code",
   "execution_count": 28,
   "metadata": {
    "collapsed": false
   },
   "outputs": [
    {
     "data": {
      "text/plain": [
       "<matplotlib.axes._subplots.AxesSubplot at 0x7f39a122b400>"
      ]
     },
     "execution_count": 28,
     "metadata": {},
     "output_type": "execute_result"
    },
    {
     "data": {
      "image/png": "[encoded data removed]",
      "text/plain": [
       "<matplotlib.figure.Figure at 0x7f39a120cbe0>"
      ]
     },
     "metadata": {},
     "output_type": "display_data"
    }
   ],
   "source": [
    "df[df.variable==\"mood\"][\"value\"].hist()"
   ]
  },
  {
   "cell_type": "markdown",
   "metadata": {},
   "source": [
    "The following code calculates daily averages of the moods (first part of assignment). Ends up with 2 dictionaries, one for the days and one for the avg moods (in the form dict[user]=days_list or moods_list)"
   ]
  },
  {
   "cell_type": "code",
   "execution_count": 111,
   "metadata": {
    "collapsed": false
   },
   "outputs": [
    {
     "name": "stderr",
     "output_type": "stream",
     "text": [
      "/Users/mounirhader/anaconda/lib/python2.7/site-packages/ipykernel/__main__.py:21: UserWarning: Boolean Series key will be reindexed to match DataFrame index.\n"
     ]
    }
   ],
   "source": [
    "# cell takes a while to run\n",
    "\n",
    "# all users\n",
    "users = list(df.id.unique())\n",
    "days_dict = {}\n",
    "avg_moods_dict = {}\n",
    "\n",
    "for i in range(len(users)):\n",
    "    # specify user\n",
    "    user = df[df.id == users[i]]\n",
    "\n",
    "    # all days with data for the user\n",
    "    #days = sorted(set([x.split()[0] for x in list(user['time'])]))\n",
    "\n",
    "    pd.set_option('display.max_columns', 50)\n",
    "\n",
    "    # get all days on which the user's mood is known (mood_days)\n",
    "    mood_days = sorted(set([x.split()[0] for x in list(user[user.variable==\"mood\"]['time'])]))\n",
    "\n",
    "    average_moods = []\n",
    "    for day in mood_days:\n",
    "        day_df = user[user['time'].str.contains(day)]\n",
    "        avg_mood = day_df[df.variable==\"mood\"].value.mean()\n",
    "        average_moods.append(avg_mood)\n",
    "\n",
    "    days_dict[users[i]] = mood_days\n",
    "    avg_moods_dict[users[i]] = average_moods\n"
   ]
  },
  {
   "cell_type": "code",
   "execution_count": 91,
   "metadata": {
    "collapsed": false,
    "scrolled": true
   },
   "outputs": [
    {
     "data": {
      "text/plain": [
       "(48, 48)"
      ]
     },
     "execution_count": 91,
     "metadata": {},
     "output_type": "execute_result"
    }
   ],
   "source": [
    "len(days_dict[5]), len(avg_moods_dict[5])"
   ]
  },
  {
   "cell_type": "code",
   "execution_count": 112,
   "metadata": {
    "collapsed": false
   },
   "outputs": [],
   "source": [
    "# format dates to date objects for checking consecutive dates\n",
    "\n",
    "import datetime\n",
    "\n",
    "for user in days_dict:\n",
    "    days = days_dict[user]\n",
    "    dates = []\n",
    "    for day in days:\n",
    "        day_ints = [int(x) for x in day.split('-')]\n",
    "        dates.append(datetime.date(day_ints[0], day_ints[1], day_ints[2]))\n",
    "    days_dict[user] = dates"
   ]
  },
  {
   "cell_type": "code",
   "execution_count": 125,
   "metadata": {
    "collapsed": false
   },
   "outputs": [
    {
     "name": "stdout",
     "output_type": "stream",
     "text": [
      "The following dates in the data are not consecutive:\n",
      "\n",
      "AS14.17 2014-03-14 2014-03-21\n",
      "\n",
      "AS14.17 2014-05-03 2014-05-05\n",
      "\n",
      "AS14.16 2014-05-02 2014-05-04\n",
      "\n",
      "AS14.15 2014-05-05 2014-05-07\n",
      "\n",
      "AS14.14 2014-04-12 2014-04-14\n",
      "\n",
      "AS14.14 2014-04-27 2014-04-30\n",
      "\n",
      "AS14.12 2014-03-15 2014-03-27\n",
      "\n",
      "AS14.33 2014-05-01 2014-05-04\n",
      "\n",
      "AS14.33 2014-05-05 2014-05-07\n",
      "\n",
      "AS14.32 2014-04-18 2014-04-21\n",
      "\n",
      "AS14.32 2014-04-21 2014-04-23\n",
      "\n",
      "AS14.32 2014-04-25 2014-04-27\n",
      "\n",
      "AS14.32 2014-05-05 2014-05-07\n",
      "\n",
      "AS14.28 2014-05-05 2014-05-07\n",
      "\n",
      "AS14.29 2014-05-01 2014-05-03\n",
      "\n",
      "AS14.29 2014-05-05 2014-05-07\n",
      "\n",
      "AS14.06 2014-05-05 2014-05-07\n",
      "\n",
      "AS14.01 2014-02-27 2014-03-21\n",
      "\n",
      "AS14.03 2014-05-05 2014-05-07\n",
      "\n",
      "AS14.26 2014-05-05 2014-05-07\n",
      "\n",
      "AS14.27 2014-05-05 2014-05-07\n",
      "\n",
      "AS14.24 2014-05-05 2014-05-07\n",
      "\n",
      "AS14.25 2014-05-05 2014-05-07\n",
      "\n",
      "AS14.23 2014-04-13 2014-04-15\n",
      "\n",
      "AS14.31 2014-05-05 2014-05-07\n",
      "\n"
     ]
    }
   ],
   "source": [
    "# check if the data is consecutive\n",
    "# for creating the dataset from figure 2 in assignment\n",
    "\n",
    "users = list(days_dict)\n",
    "days_dict[users[5]]\n",
    "\n",
    "print 'The following dates in the data are not consecutive:\\n'\n",
    "for user in users:\n",
    "    days = days_dict[user]\n",
    "    length = len(days_dict[user]) - 1\n",
    "    for i in range(len(days)):\n",
    "        # make sure to not exceed the size of the days list when indexing\n",
    "        if i + 1 <= length: \n",
    "            if (days[i+1] - days[i]).days == 1:\n",
    "                pass #difference is one day = good\n",
    "            else:\n",
    "                print \"{} {} {}\\n\".format(user, days[i], days[i+1])\n",
    "        else:\n",
    "            pass"
   ]
  },
  {
   "cell_type": "markdown",
   "metadata": {},
   "source": [
    "<h1>Thoughts and ideas</h1>\n",
    "- implement weekdays/weekend days separate features?"
   ]
  },
  {
   "cell_type": "code",
   "execution_count": null,
   "metadata": {
    "collapsed": true
   },
   "outputs": [],
   "source": []
  }
 ],
 "metadata": {
  "anaconda-cloud": {},
  "kernelspec": {
   "display_name": "Python [Root]",
   "language": "python",
   "name": "Python [Root]"
  },
  "language_info": {
   "codemirror_mode": {
    "name": "ipython",
    "version": 2
   },
   "file_extension": ".py",
   "mimetype": "text/x-python",
   "name": "python",
   "nbconvert_exporter": "python",
   "pygments_lexer": "ipython2",
   "version": "2.7.12"
  }
 },
 "nbformat": 4,
 "nbformat_minor": 2
}
